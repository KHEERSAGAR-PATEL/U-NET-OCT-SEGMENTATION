{
  "nbformat": 4,
  "nbformat_minor": 0,
  "metadata": {
    "colab": {
      "provenance": []
    },
    "kernelspec": {
      "name": "python3",
      "display_name": "Python 3"
    },
    "language_info": {
      "name": "python"
    }
  },
  "cells": [
    {
      "cell_type": "code",
      "execution_count": null,
      "metadata": {
        "id": "HwpSJ2Fs9PIj"
      },
      "outputs": [],
      "source": [
        "from tensorflow.keras.models import Model\n",
        "from tensorflow.keras.layers import Input, Conv2D, MaxPooling2D, concatenate, Conv2DTranspose, Dropout\n",
        "\n",
        "def create_unet_model(num_classes=4, img_height=256, img_width=256, img_channels=1):\n",
        "    \"\"\"\n",
        "    Constructs a U-Net model for image segmentation with customizable input size and number of classes.\n",
        "    \"\"\"\n",
        "\n",
        "    # Input layer\n",
        "    inputs = Input((img_height, img_width, img_channels))\n",
        "\n",
        "    # Downsampling path\n",
        "    conv1 = Conv2D(16, (3, 3), activation='relu', kernel_initializer='he_normal', padding='same')(inputs)\n",
        "    conv1 = Dropout(0.1)(conv1)\n",
        "    conv1 = Conv2D(16, (3, 3), activation='relu', kernel_initializer='he_normal', padding='same')(conv1)\n",
        "    pool1 = MaxPooling2D((2, 2))(conv1)\n",
        "\n",
        "    conv2 = Conv2D(32, (3, 3), activation='relu', kernel_initializer='he_normal', padding='same')(pool1)\n",
        "    conv2 = Dropout(0.1)(conv2)\n",
        "    conv2 = Conv2D(32, (3, 3), activation='relu', kernel_initializer='he_normal', padding='same')(conv2)\n",
        "    pool2 = MaxPooling2D((2, 2))(conv2)\n",
        "\n",
        "    conv3 = Conv2D(64, (3, 3), activation='relu', kernel_initializer='he_normal', padding='same')(pool2)\n",
        "    conv3 = Dropout(0.2)(conv3)\n",
        "    conv3 = Conv2D(64, (3, 3), activation='relu', kernel_initializer='he_normal', padding='same')(conv3)\n",
        "    pool3 = MaxPooling2D((2, 2))(conv3)\n",
        "\n",
        "    conv4 = Conv2D(128, (3, 3), activation='relu', kernel_initializer='he_normal', padding='same')(pool3)\n",
        "    conv4 = Dropout(0.2)(conv4)\n",
        "    conv4 = Conv2D(128, (3, 3), activation='relu', kernel_initializer='he_normal', padding='same')(conv4)\n",
        "    pool4 = MaxPooling2D((2, 2))(conv4)\n",
        "\n",
        "    # Bottleneck\n",
        "    conv5 = Conv2D(256, (3, 3), activation='relu', kernel_initializer='he_normal', padding='same')(pool4)\n",
        "    conv5 = Dropout(0.3)(conv5)\n",
        "    conv5 = Conv2D(256, (3, 3), activation='relu', kernel_initializer='he_normal', padding='same')(conv5)\n",
        "\n",
        "    # Upsampling path\n",
        "    up6 = Conv2DTranspose(128, (2, 2), strides=(2, 2), padding='same')(conv5)\n",
        "    up6 = concatenate([up6, conv4])\n",
        "    conv6 = Conv2D(128, (3, 3), activation='relu', kernel_initializer='he_normal', padding='same')(up6)\n",
        "    conv6 = Dropout(0.2)(conv6)\n",
        "    conv6 = Conv2D(128, (3, 3), activation='relu', kernel_initializer='he_normal', padding='same')(conv6)\n",
        "\n",
        "    up7 = Conv2DTranspose(64, (2, 2), strides=(2, 2), padding='same')(conv6)\n",
        "    up7 = concatenate([up7, conv3])\n",
        "    conv7 = Conv2D(64, (3, 3), activation='relu', kernel_initializer='he_normal', padding='same')(up7)\n",
        "    conv7 = Dropout(0.2)(conv7)\n",
        "    conv7 = Conv2D(64, (3, 3), activation='relu', kernel_initializer='he_normal', padding='same')(conv7)\n",
        "\n",
        "    up8 = Conv2DTranspose(32, (2, 2), strides=(2, 2), padding='same')(conv7)\n",
        "    up8 = concatenate([up8, conv2])\n",
        "    conv8 = Conv2D(32, (3, 3), activation='relu', kernel_initializer='he_normal', padding='same')(up8)\n",
        "    conv8 = Dropout(0.1)(conv8)\n",
        "    conv8 = Conv2D(32, (3, 3), activation='relu', kernel_initializer='he_normal', padding='same')(conv8)\n",
        "\n",
        "    up9 = Conv2DTranspose(16, (2, 2), strides=(2, 2), padding='same')(conv8)\n",
        "    up9 = concatenate([up9, conv1])\n",
        "    conv9 = Conv2D(16, (3, 3), activation='relu', kernel_initializer='he_normal', padding='same')(up9)\n",
        "    conv9 = Dropout(0.1)(conv9)\n",
        "    conv9 = Conv2D(16, (3, 3), activation='relu', kernel_initializer='he_normal', padding='same')(conv9)\n",
        "\n",
        "    # Output layer with softmax activation for multi-class segmentation\n",
        "    output_layer = Conv2D(num_classes, (1, 1), activation='softmax')(conv9)\n",
        "\n",
        "    # Build model\n",
        "    model = Model(inputs=[inputs], outputs=[output_layer])\n",
        "\n",
        "    return model\n"
      ]
    }
  ]
}